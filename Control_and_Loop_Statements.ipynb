{
  "nbformat": 4,
  "nbformat_minor": 0,
  "metadata": {
    "colab": {
      "name": "Control and Loop Statements",
      "provenance": [],
      "authorship_tag": "ABX9TyNEse/xAEHi5Jn46SRyw2g+",
      "include_colab_link": true
    },
    "kernelspec": {
      "name": "python3",
      "display_name": "Python 3"
    },
    "language_info": {
      "name": "python"
    }
  },
  "cells": [
    {
      "cell_type": "markdown",
      "metadata": {
        "id": "view-in-github",
        "colab_type": "text"
      },
      "source": [
        "<a href=\"https://colab.research.google.com/github/LanceDelRosario/Numerical-Methods-58012/blob/main/Control_and_Loop_Statements.ipynb\" target=\"_parent\"><img src=\"https://colab.research.google.com/assets/colab-badge.svg\" alt=\"Open In Colab\"/></a>"
      ]
    },
    {
      "cell_type": "markdown",
      "source": [
        "##"
      ],
      "metadata": {
        "id": "wTXvOpParAnL"
      }
    },
    {
      "cell_type": "code",
      "execution_count": 6,
      "metadata": {
        "colab": {
          "base_uri": "https://localhost:8080/"
        },
        "id": "XFhIyL5Sqyo7",
        "outputId": "3107c6eb-386c-452a-a454-d6657f355122"
      },
      "outputs": [
        {
          "output_type": "stream",
          "name": "stdout",
          "text": [
            "they are both equal\n"
          ]
        }
      ],
      "source": [
        "a = 100\n",
        "b = 10\n",
        "\n",
        "if b>a:\n",
        "  print(\"b is greater than a\")\n",
        "elif a==b:\n",
        "  print(\"they are both equal\")"
      ]
    },
    {
      "cell_type": "code",
      "source": [
        "if b>a:\n",
        "  print(\"b is greater than a\")\n",
        "elif a==b:\n",
        "  print(\"they are both equal\")\n",
        "else:\n",
        "  print(\"a is greater than b\")"
      ],
      "metadata": {
        "colab": {
          "base_uri": "https://localhost:8080/"
        },
        "id": "_9kU2CTyrdai",
        "outputId": "55bce44d-e339-4e42-9f95-3dd1e7440735"
      },
      "execution_count": 2,
      "outputs": [
        {
          "output_type": "stream",
          "name": "stdout",
          "text": [
            "they are both equal\n"
          ]
        }
      ]
    },
    {
      "cell_type": "markdown",
      "source": [
        "##Short hand If Statement"
      ],
      "metadata": {
        "id": "gRW6lZMMroNC"
      }
    },
    {
      "cell_type": "code",
      "source": [
        "if a>b: print(\"a is greater than b\")"
      ],
      "metadata": {
        "id": "432ZhdgXrqaE"
      },
      "execution_count": 3,
      "outputs": []
    },
    {
      "cell_type": "markdown",
      "source": [
        "##Short Hand If Else"
      ],
      "metadata": {
        "id": "QtoGgTlSrzyy"
      }
    },
    {
      "cell_type": "code",
      "source": [
        "print(\"b is greater than a\") if b>a else print(\"a is greater than b\")"
      ],
      "metadata": {
        "colab": {
          "base_uri": "https://localhost:8080/"
        },
        "id": "1bT6N4ltrzVi",
        "outputId": "f335b484-2d1b-41c0-a28f-86323ef563d7"
      },
      "execution_count": 5,
      "outputs": [
        {
          "output_type": "stream",
          "name": "stdout",
          "text": [
            "a is greater than b\n"
          ]
        }
      ]
    },
    {
      "cell_type": "markdown",
      "source": [
        "##And If-both conditions are True"
      ],
      "metadata": {
        "id": "ExUJ3ouCsYbE"
      }
    },
    {
      "cell_type": "code",
      "source": [
        "a = 100\n",
        "b = 10\n",
        "c = 45\n",
        "\n",
        "if a>b and c>b:\n",
        "  print(\"both conditions are true\")"
      ],
      "metadata": {
        "colab": {
          "base_uri": "https://localhost:8080/"
        },
        "id": "oC9FZOndsa-y",
        "outputId": "6a2bbc0a-e89e-408a-ad87-f133ed2abba9"
      },
      "execution_count": 7,
      "outputs": [
        {
          "output_type": "stream",
          "name": "stdout",
          "text": [
            "both conditions are true\n"
          ]
        }
      ]
    },
    {
      "cell_type": "markdown",
      "source": [
        "##Or If-if one of operands is true"
      ],
      "metadata": {
        "id": "wQKj6rlosoCJ"
      }
    },
    {
      "cell_type": "code",
      "source": [
        "a = 100\n",
        "b = 10\n",
        "c = 45\n",
        "\n",
        "if a>b or b>c:\n",
        "  print(\"at least one condition is true\")"
      ],
      "metadata": {
        "colab": {
          "base_uri": "https://localhost:8080/"
        },
        "id": "ZIjhEMZFssFR",
        "outputId": "9f499838-e102-4335-fed7-d3da1bb17fa9"
      },
      "execution_count": 8,
      "outputs": [
        {
          "output_type": "stream",
          "name": "stdout",
          "text": [
            "at least one condition is true\n"
          ]
        }
      ]
    },
    {
      "cell_type": "markdown",
      "source": [
        "##Nested If Statements"
      ],
      "metadata": {
        "id": "huRiFQqes_7x"
      }
    },
    {
      "cell_type": "code",
      "source": [
        "A = 210\n",
        "\n",
        "if A>10:\n",
        "  print(\"A is greater than 10\")\n",
        "   if A>100:\n",
        "     print(\"A is also greater than 100\")\n",
        "     elif A<100:\n",
        "       print(\"but is lower than 100\")\n",
        "else:\n",
        "  print(\"edi don't\")"
      ],
      "metadata": {
        "colab": {
          "base_uri": "https://localhost:8080/",
          "height": 130
        },
        "id": "9qGDYrvOtDHK",
        "outputId": "11ff6923-3882-4be2-be62-60f486f9c0ca"
      },
      "execution_count": 11,
      "outputs": [
        {
          "output_type": "error",
          "ename": "IndentationError",
          "evalue": "ignored",
          "traceback": [
            "\u001b[0;36m  File \u001b[0;32m\"<ipython-input-11-e1609ec33d5a>\"\u001b[0;36m, line \u001b[0;32m5\u001b[0m\n\u001b[0;31m    if A>100:\u001b[0m\n\u001b[0m    ^\u001b[0m\n\u001b[0;31mIndentationError\u001b[0m\u001b[0;31m:\u001b[0m unexpected indent\n"
          ]
        }
      ]
    },
    {
      "cell_type": "markdown",
      "source": [
        "##Application"
      ],
      "metadata": {
        "id": "SbTzaoWiu3UC"
      }
    },
    {
      "cell_type": "code",
      "source": [
        "age=int(input())\n",
        "\n",
        "if age>=18:\n",
        "  print(\"You are qualified to vote\")\n",
        "else:\n",
        "  print(\"You are not qualified to vote\")"
      ],
      "metadata": {
        "colab": {
          "base_uri": "https://localhost:8080/"
        },
        "id": "HVPTKRXXu5CO",
        "outputId": "b5d7316f-a7a4-4fe4-d497-c8ee6ddd3c12"
      },
      "execution_count": 14,
      "outputs": [
        {
          "output_type": "stream",
          "name": "stdout",
          "text": [
            "14\n",
            "You are not qualified to vote\n"
          ]
        }
      ]
    },
    {
      "cell_type": "markdown",
      "source": [
        "##Application 2"
      ],
      "metadata": {
        "id": "CaaoJg8OvW_4"
      }
    },
    {
      "cell_type": "code",
      "source": [
        "x = int(input())\n",
        "if x>0:\n",
        "  print(\"x is a posotive number\")\n",
        "elif x==0:\n",
        "  print(\"x is zero\")\n",
        "else:\n",
        "  print(\"x is a negative number\")"
      ],
      "metadata": {
        "colab": {
          "base_uri": "https://localhost:8080/"
        },
        "id": "uiXNcYWavYZ0",
        "outputId": "f86f1c1e-f22c-420b-cede-85842a229cb2"
      },
      "execution_count": 15,
      "outputs": [
        {
          "output_type": "stream",
          "name": "stdout",
          "text": [
            "-3\n",
            "x is a negative number\n"
          ]
        }
      ]
    },
    {
      "cell_type": "markdown",
      "source": [
        "##Application 3"
      ],
      "metadata": {
        "id": "iuhqzQ6Rv4Qw"
      }
    },
    {
      "cell_type": "code",
      "source": [
        "grade=int(input())\n",
        "if grade>=70:\n",
        "  print(\"Nice! You have passed\")\n",
        "elif grade==64:\n",
        " print(\"Hmmm! You'll be taking a remedial\")\n",
        "elif grade==65:\n",
        " print(\"Hmmm! You'll be taking a remedial\")\n",
        "elif grade==66:\n",
        " print(\"Hmmm! You'll be taking a remedial\")\n",
        "elif grade==67:\n",
        " print(\"Hmmm! You'll be taking a remedial\")\n",
        "elif grade==68:\n",
        " print(\"Hmmm! You'll be taking a remedial\")\n",
        "elif grade==69:\n",
        " print(\"Hmmm! You'll be taking a remedial\")\n",
        "elif grade<64:\n",
        " print(\"Damn! You failed.\")\n"
      ],
      "metadata": {
        "colab": {
          "base_uri": "https://localhost:8080/"
        },
        "id": "YsixrG03v9th",
        "outputId": "89d977cd-c50d-4d14-b8b8-e6b9f8f04c87"
      },
      "execution_count": 48,
      "outputs": [
        {
          "output_type": "stream",
          "name": "stdout",
          "text": [
            "64\n",
            "Hmmm! You'll be taking a remedial\n"
          ]
        }
      ]
    },
    {
      "cell_type": "markdown",
      "source": [
        "##Looping Through String"
      ],
      "metadata": {
        "id": "RgUEcoDTxxwH"
      }
    },
    {
      "cell_type": "code",
      "source": [
        "for x in \"Week\":\n",
        "  print(x)"
      ],
      "metadata": {
        "colab": {
          "base_uri": "https://localhost:8080/"
        },
        "id": "q5zAEI5txz1W",
        "outputId": "3832d5ae-96cd-41d0-f714-fd0a179c37e2"
      },
      "execution_count": 16,
      "outputs": [
        {
          "output_type": "stream",
          "name": "stdout",
          "text": [
            "W\n",
            "e\n",
            "e\n",
            "k\n"
          ]
        }
      ]
    },
    {
      "cell_type": "markdown",
      "source": [
        "##Range Function"
      ],
      "metadata": {
        "id": "FKQFWCvQx8V4"
      }
    },
    {
      "cell_type": "code",
      "source": [
        "for x in range(6):\n",
        "  print(x)\n",
        "for x in range(2,6):\n",
        " print(x)"
      ],
      "metadata": {
        "colab": {
          "base_uri": "https://localhost:8080/"
        },
        "id": "4Q_brk16yMEv",
        "outputId": "b95c4367-a1c7-4ca9-9fce-639bc45bc238"
      },
      "execution_count": 23,
      "outputs": [
        {
          "output_type": "stream",
          "name": "stdout",
          "text": [
            "0\n",
            "1\n",
            "2\n",
            "3\n",
            "4\n",
            "5\n",
            "2\n",
            "3\n",
            "4\n",
            "5\n"
          ]
        }
      ]
    },
    {
      "cell_type": "markdown",
      "source": [
        "##While Loop"
      ],
      "metadata": {
        "id": "gP8NhaMWynxq"
      }
    },
    {
      "cell_type": "code",
      "source": [
        "i = 1\n",
        "while i<6:\n",
        "  print(i)\n",
        "  i+=1"
      ],
      "metadata": {
        "colab": {
          "base_uri": "https://localhost:8080/"
        },
        "id": "dhkeBUD8yqye",
        "outputId": "12f88908-e6a4-4863-a923-23be3ea292dc"
      },
      "execution_count": 26,
      "outputs": [
        {
          "output_type": "stream",
          "name": "stdout",
          "text": [
            "1\n",
            "2\n",
            "3\n",
            "4\n",
            "5\n"
          ]
        }
      ]
    },
    {
      "cell_type": "markdown",
      "source": [
        "##Break Statement"
      ],
      "metadata": {
        "id": "wND2w8ZlzPNN"
      }
    },
    {
      "cell_type": "code",
      "source": [
        "i = 1\n",
        "while i<6:\n",
        " print(i)\n",
        " if i==3:\n",
        "    break\n",
        "    i+=1"
      ],
      "metadata": {
        "id": "ACQuG3nt0cbM"
      },
      "execution_count": null,
      "outputs": []
    },
    {
      "cell_type": "markdown",
      "source": [
        "##The Continue Statement"
      ],
      "metadata": {
        "id": "CtqkGOVx0VWe"
      }
    },
    {
      "cell_type": "code",
      "source": [
        "i = 1\n",
        "while i<6:\n",
        "  i+=1\n",
        "  if i == 3:\n",
        "   continue\n",
        "  print(i)\n",
        "  "
      ],
      "metadata": {
        "colab": {
          "base_uri": "https://localhost:8080/"
        },
        "id": "L-l49ouEz9Me",
        "outputId": "6821f955-c81c-4e0b-a2a5-8a8be08c8372"
      },
      "execution_count": 34,
      "outputs": [
        {
          "output_type": "stream",
          "name": "stdout",
          "text": [
            "2\n",
            "4\n",
            "5\n",
            "6\n"
          ]
        }
      ]
    }
  ]
}