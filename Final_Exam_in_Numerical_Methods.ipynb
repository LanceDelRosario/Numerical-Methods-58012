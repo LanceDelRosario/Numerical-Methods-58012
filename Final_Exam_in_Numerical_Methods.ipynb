{
  "nbformat": 4,
  "nbformat_minor": 0,
  "metadata": {
    "colab": {
      "name": "Final Exam in Numerical Methods.ipynb",
      "provenance": [],
      "authorship_tag": "ABX9TyPdiRx3FipAmvq2oytPwxEj",
      "include_colab_link": true
    },
    "kernelspec": {
      "name": "python3",
      "display_name": "Python 3"
    },
    "language_info": {
      "name": "python"
    }
  },
  "cells": [
    {
      "cell_type": "markdown",
      "metadata": {
        "id": "view-in-github",
        "colab_type": "text"
      },
      "source": [
        "<a href=\"https://colab.research.google.com/github/LanceDelRosario/Numerical-Methods-58012/blob/main/Final_Exam_in_Numerical_Methods.ipynb\" target=\"_parent\"><img src=\"https://colab.research.google.com/assets/colab-badge.svg\" alt=\"Open In Colab\"/></a>"
      ]
    },
    {
      "cell_type": "markdown",
      "source": [
        "##Problem 3"
      ],
      "metadata": {
        "id": "RjPmNwQ40k7m"
      }
    },
    {
      "cell_type": "code",
      "source": [
        "from math import exp\n",
        "\n",
        "def f(x): return exp(x)\n",
        "a = 0\n",
        "b = -1\n",
        "n = 1\n",
        "h = (b-a)/n\n",
        "S = h*(f(a)+f(b))\n",
        "\n",
        "for i in range(1,n):\n",
        "  S = S+f(a+i*h)\n",
        "Integral = h*S\n",
        "print('Integral = %f' %Integral)"
      ],
      "metadata": {
        "colab": {
          "base_uri": "https://localhost:8080/"
        },
        "id": "VnsD0wKL0pS7",
        "outputId": "28e68039-fd49-44bc-ae89-439249e6a452"
      },
      "execution_count": 1,
      "outputs": [
        {
          "output_type": "stream",
          "name": "stdout",
          "text": [
            "Integral = 1.367879\n"
          ]
        }
      ]
    }
  ]
}